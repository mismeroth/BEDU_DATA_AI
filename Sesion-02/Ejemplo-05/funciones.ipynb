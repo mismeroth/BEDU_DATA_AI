{
 "cells": [
  {
   "cell_type": "markdown",
   "metadata": {},
   "source": [
    "## Ejemplo 5: Funciones\n",
    "\n",
    "### 1. Objetivos:\n",
    "    - Entender la sintaxis de las funciones\n",
    "    - Aprender cómo pasarle parámetros a las funciones\n",
    "    - Entender cómo aprovechar los valores que regresa el `return`\n",
    "    - Entender el concepto de `contexto` y cómo las variables definidas dentro de la función sólo pueden ser accedidas dentro de la función\n",
    " \n",
    "---\n",
    "    \n",
    "### 2. Desarrollo:"
   ]
  },
  {
   "cell_type": "markdown",
   "metadata": {},
   "source": [
    "Queremos hacer funciones porque queremos evitar repetir código en nuestro programa. En vez de escribir 10 veces el mismo proceso en diferentes lugares de nuestro código, podemos escribir una función que contenga ese proceso y simplemente usarla en los 10 lugares donde suceda ese proceso."
   ]
  },
  {
   "cell_type": "markdown",
   "metadata": {},
   "source": [
    "#### Sintaxis\n",
    "\n",
    "Una función se ve así:"
   ]
  },
  {
   "cell_type": "code",
   "execution_count": 1,
   "metadata": {},
   "outputs": [],
   "source": [
    "def area_de_un_circulo(radio):\n",
    "    pi = 3.14159\n",
    "    area = pi * radio ** 2\n",
    "    \n",
    "    return area"
   ]
  },
  {
   "cell_type": "markdown",
   "metadata": {},
   "source": [
    "Es muy importante notar lo siguiente:\n",
    "\n",
    "1. La declaración comienza con la palabra `def`.\n",
    "2. El nombre de la función sigue las mismas convenciones de nombramiento que las variables.\n",
    "3. Los `parámetros` de la función van dentro del paréntesis.\n",
    "4. Hay unos `dos puntos (:)` después del paréntesis que indican el inicio del bloque de la función\n",
    "5. El bloque de la función deben de estar indentados (similar a lo usado con la instrucción `if`).\n",
    "6. Las funciones pueden tener una sentencia `return` que regresa el resultado de nuestro proceso para que pueda ser utilizado en otras partes de nuestro programa, recuerda que lo que pasa dentro de la función, se queda o se muere con la función a menos que se use un return."
   ]
  },
  {
   "cell_type": "markdown",
   "metadata": {},
   "source": [
    "Cuando se crea o se define una función, ésta no se ejecuta, así que para ejecutarla hay que usarla o llamarla usando el nombre de la función y colocándo los valores que necesita entre paréntesis (los parámetros), por ejemplo vamos a calcular el área de un círculo de radio 50:"
   ]
  },
  {
   "cell_type": "code",
   "execution_count": 2,
   "metadata": {},
   "outputs": [
    {
     "data": {
      "text/plain": [
       "7853.974999999999"
      ]
     },
     "execution_count": 2,
     "metadata": {},
     "output_type": "execute_result"
    }
   ],
   "source": [
    "area_de_un_circulo(50)"
   ]
  },
  {
   "cell_type": "markdown",
   "metadata": {},
   "source": [
    "Y que tal si el radio ahora es 100:"
   ]
  },
  {
   "cell_type": "code",
   "execution_count": 3,
   "metadata": {},
   "outputs": [
    {
     "data": {
      "text/plain": [
       "31415.899999999998"
      ]
     },
     "execution_count": 3,
     "metadata": {},
     "output_type": "execute_result"
    }
   ],
   "source": [
    "area_de_un_circulo(100)"
   ]
  },
  {
   "cell_type": "markdown",
   "metadata": {},
   "source": [
    "Podemos definir más de un parámetro por función (en realidad el número es ilimitado), pero la mejor práctica es mantener el número de parámetros lo más pequeño posible. Entre menos parámetros usemos, mejor está pensada nuestra función.\n",
    "\n",
    "Veamos una función con dos parámetros, el primero debe ser una lista de números y el segundo será un número, entonces la función agrega el número a la lista sólo si el número es par."
   ]
  },
  {
   "cell_type": "code",
   "execution_count": 4,
   "metadata": {},
   "outputs": [
    {
     "name": "stdout",
     "output_type": "stream",
     "text": [
      "[2, 34, 26, 88, 4]\n",
      "[2, 34, 26, 88, 4, 64]\n"
     ]
    }
   ],
   "source": [
    "def agregar_numero_par(lista, numero):\n",
    "    \"\"\" Agrega a la lista de enteros el valor de numero sólo si es par \"\"\"\n",
    "    if(numero%2)==0:\n",
    "        lista.append(numero)\n",
    "    \n",
    "lista_de_ints = [2, 34, 26, 88, 4]\n",
    "\n",
    "agregar_numero_par(lista_de_ints, 5)\n",
    "print(lista_de_ints)\n",
    "agregar_numero_par(lista_de_ints, 64)\n",
    "print(lista_de_ints)"
   ]
  },
  {
   "cell_type": "markdown",
   "metadata": {},
   "source": [
    "#### Return\n",
    "\n",
    "El valor que regresa nuestro `return` lo podemos guardar en otra variable para usarlo en el futuro o podemos imprimirlo directamente usando un `print` (aunque es recomendable mejor primero asignarlo a una variable y después imprimir la variable), por ejemplo vamos a crear la función `entre_50_y_60(valor)` que regrese verdadero si `valor` está entre el intervalo `[50, 60]` (incluyendo los límites). "
   ]
  },
  {
   "cell_type": "code",
   "execution_count": 21,
   "metadata": {},
   "outputs": [
    {
     "name": "stdout",
     "output_type": "stream",
     "text": [
      "58 está entre 50 y 60\n"
     ]
    }
   ],
   "source": [
    "def entre_50_y_60(valor):\n",
    "    if(valor >= 50 and valor <= 60):\n",
    "        return True\n",
    "\n",
    "valor_1 = 58\n",
    "resultado = entre_50_y_60(valor_1)\n",
    "if resultado == True:\n",
    "    print(f\"{valor_1} está entre 50 y 60\")\n",
    "\n",
    "valor_2 = 89\n",
    "if entre_50_y_60(valor_2) == True:\n",
    "    print(f\"{valor_2} está entre 50 y 60\")\n",
    "\n",
    "valor_3 = 43\n",
    "if entre_50_y_60(valor_3):\n",
    "    print(f\"{valor_3} está entre 50 y 60\")\n"
   ]
  },
  {
   "cell_type": "markdown",
   "metadata": {},
   "source": [
    "#### Contexto de una variable\n",
    "\n",
    "Para terminar, es importante recordar algo que vimos en el Prework: Las variables definidas dentro de una función (ya sean parámetros o variables asignadas dentro de la función) **sólo pueden ser accedidas dentro de la función**. Una vez que la función termina, las variables desaparecen y no son accesibles desde ninguna parte de nuestro código.\n",
    "\n",
    "Es por eso que el código siguiente lanza un error:"
   ]
  },
  {
   "cell_type": "code",
   "execution_count": 22,
   "metadata": {},
   "outputs": [
    {
     "name": "stdout",
     "output_type": "stream",
     "text": [
      "None\n"
     ]
    },
    {
     "ename": "NameError",
     "evalue": "name 'area' is not defined",
     "output_type": "error",
     "traceback": [
      "\u001b[1;31m---------------------------------------------------------------------------\u001b[0m",
      "\u001b[1;31mNameError\u001b[0m                                 Traceback (most recent call last)",
      "\u001b[1;32m~\\AppData\\Local\\Temp/ipykernel_1428/399497282.py\u001b[0m in \u001b[0;36m<module>\u001b[1;34m\u001b[0m\n\u001b[0;32m      6\u001b[0m \u001b[1;33m\u001b[0m\u001b[0m\n\u001b[0;32m      7\u001b[0m \u001b[0mprint\u001b[0m\u001b[1;33m(\u001b[0m\u001b[0mresultado\u001b[0m\u001b[1;33m)\u001b[0m\u001b[1;33m\u001b[0m\u001b[1;33m\u001b[0m\u001b[0m\n\u001b[1;32m----> 8\u001b[1;33m \u001b[0mprint\u001b[0m\u001b[1;33m(\u001b[0m\u001b[0marea\u001b[0m\u001b[1;33m)\u001b[0m\u001b[1;33m\u001b[0m\u001b[1;33m\u001b[0m\u001b[0m\n\u001b[0m",
      "\u001b[1;31mNameError\u001b[0m: name 'area' is not defined"
     ]
    }
   ],
   "source": [
    "def area_de_un_circulo(radio):\n",
    "    pi = 3.14159\n",
    "    area = pi * radio ** 2\n",
    "    \n",
    "resultado = area_de_un_circulo(10)\n",
    "\n",
    "print(resultado)\n",
    "print(area)"
   ]
  },
  {
   "cell_type": "markdown",
   "metadata": {},
   "source": [
    "Pasemos ahora a lo emocionante. Vamos a definir unas cuantas funciones para dominar esta nueva herramienta tan útil.\n",
    "\n",
    "---"
   ]
  },
  {
   "cell_type": "markdown",
   "metadata": {},
   "source": [
    "## Reto 5: Funciones\n",
    "\n",
    "### 1. Objetivos:\n",
    "    - Practicar la declaración de funciones\n",
    "    - Practicar la definición de parámetros y su uso dentro de la función\n",
    "    - Practicar el uso de los valores retornados por una función\n",
    "    - Practicar el uso de funciones para evitar la repetición de código\n",
    " \n",
    "### 2. Desarrollo:"
   ]
  },
  {
   "cell_type": "markdown",
   "metadata": {},
   "source": [
    "#### a) Función `numero_es_par`\n",
    "\n",
    "Debajo tienes una función incompleta:"
   ]
  },
  {
   "cell_type": "code",
   "execution_count": 28,
   "metadata": {},
   "outputs": [],
   "source": [
    "def numero_es_par(numero):\n",
    "    if(numero%2)==0:\n",
    "        return True\n",
    "    else: return False"
   ]
  },
  {
   "cell_type": "markdown",
   "metadata": {},
   "source": [
    "Dicha función debería de tomar un parámetro `numero`, checar si el número es par, regresar `True` si el número es par y regresar `False` si el número no es par.\n",
    "\n",
    "Completa la función para que el código de abajo (que realiza `tests` de la función) regrese todos los `resultados esperados`."
   ]
  },
  {
   "cell_type": "code",
   "execution_count": 29,
   "metadata": {},
   "outputs": [
    {
     "name": "stdout",
     "output_type": "stream",
     "text": [
      "== Tests numero_es_par() ==\n",
      "\n",
      "Test 0: Para el número 2 el resultado esperado es `True`, obtuvimos `True`\n",
      "Test 1: Para el número 3 el resultado esperado es `False`, obtuvimos `False`\n",
      "Test 2: Para el número 0 el resultado esperado es `True`, obtuvimos `True`\n",
      "Test 3: Para el número 127 el resultado esperado es `False`, obtuvimos `False`\n",
      "Test 4: Para el número -88 el resultado esperado es `True`, obtuvimos `True`\n",
      "Test 5: Para el número -1349 el resultado esperado es `False`, obtuvimos `False`\n",
      "\n",
      "Errores encontrados: 0\n"
     ]
    }
   ],
   "source": [
    "print(\"== Tests numero_es_par() ==\\n\")\n",
    "\n",
    "errores = 0\n",
    "tests = [(2, True), (3, False), (0, True), (127, False), (-88, True), (-1349, False)]\n",
    "for i, (param, result) in enumerate(tests):\n",
    "    resultado_test = numero_es_par(param)\n",
    "    print(f'Test {i}: Para el número {param} el resultado esperado es `{result}`, obtuvimos `{resultado_test}`')\n",
    "    errores += resultado_test != result\n",
    "\n",
    "print(f'\\nErrores encontrados: {errores}')"
   ]
  },
  {
   "cell_type": "markdown",
   "metadata": {},
   "source": [
    "#### b) Reutilización de código\n",
    "\n",
    "Debajo tenemos algo de código."
   ]
  },
  {
   "cell_type": "code",
   "execution_count": 30,
   "metadata": {},
   "outputs": [
    {
     "name": "stdout",
     "output_type": "stream",
     "text": [
      "34 es el 34.0% del número 100\n",
      "\n",
      "57 es el 44.881889763779526% del número 127\n",
      "\n",
      "12 es el 5.2631578947368425% del número 228\n",
      "\n",
      "87 es el 96.66666666666667% del número 90\n",
      "\n",
      "1 es el 0.1001001001001001% del número 999\n",
      "\n",
      "66 es el 100.0% del número 66\n",
      "\n"
     ]
    }
   ],
   "source": [
    "resultado_1 = 34 * 100 / 100\n",
    "print(f'34 es el {resultado_1}% del número 100\\n')\n",
    "\n",
    "resultado_2 = 57 * 100 / 127\n",
    "print(f'57 es el {resultado_2}% del número 127\\n')\n",
    "\n",
    "resultado_3 = 12 * 100 / 228\n",
    "print(f'12 es el {resultado_3}% del número 228\\n')\n",
    "\n",
    "resultado_4 = 87 * 100 / 90\n",
    "print(f'87 es el {resultado_4}% del número 90\\n')\n",
    "\n",
    "resultado_5 = 1 * 100 / 999\n",
    "print(f'1 es el {resultado_5}% del número 999\\n')\n",
    "\n",
    "resultado_6 = 66 * 100 / 66\n",
    "print(f'66 es el {resultado_6}% del número 66\\n')"
   ]
  },
  {
   "cell_type": "markdown",
   "metadata": {},
   "source": [
    "Este código funciona correctamente, pero como puedes ver, estamos escribiendo el mismo código una y otra vez. En la celda debajo, escribe una función que realice todo el código que se repite para que podamos reusarla múltiples veces para obtener los resultados que queremos."
   ]
  },
  {
   "cell_type": "code",
   "execution_count": 32,
   "metadata": {},
   "outputs": [
    {
     "name": "stdout",
     "output_type": "stream",
     "text": [
      "34 es el 34.0% del número 100\n",
      "\n",
      "57 es el 44.881889763779526% del número 127\n",
      "\n"
     ]
    }
   ],
   "source": [
    "def calculo(num_1,num_2):\n",
    "    return num_1 * 100 / num_2\n",
    "\n",
    "# usa tu función con los parámetros 34 y 100\n",
    "resultado_1 =calculo(34,100)\n",
    "print(f'34 es el {resultado_1}% del número 100\\n')\n",
    "\n",
    "# usa tu función con los parámetros 57 y 127\n",
    "resultado_2 = calculo(57,127)\n",
    "print(f'57 es el {resultado_2}% del número 127\\n')\n",
    "\n",
    "# usa tu función con los parámetros 12 y 228\n",
    "\n",
    "# usa tu función con los parámetros 87 y 90\n",
    "\n",
    "# usa tu función con los parámetros 1 y 999\n",
    "\n",
    "# usa tu función con los parámetros 66 y 66\n"
   ]
  },
  {
   "cell_type": "markdown",
   "metadata": {},
   "source": [
    "#### c) Función `acceso_autorizado`\n",
    "\n",
    "Debajo tenemos un conjunto de datos que tiene información de varios usuarios de una plataforma web. Este diccionario relaciona `usernames` con un rol y (a veces) con un nip de acceso:"
   ]
  },
  {
   "cell_type": "code",
   "execution_count": 33,
   "metadata": {},
   "outputs": [],
   "source": [
    "usuarios = {\n",
    "    \"manolito_garcia\": {\n",
    "        \"rol\": \"admin\"\n",
    "    },\n",
    "    \"sebas_macaco_23\": {\n",
    "        \"rol\": \"editor\",\n",
    "        \"nip_de_acceso\": 3594\n",
    "    },\n",
    "    \"la_susanita_maestra\": {\n",
    "        \"rol\": \"admin\"\n",
    "    },\n",
    "    \"pepe_le_pu_88\": {\n",
    "        \"rol\": \"lector\"\n",
    "    },\n",
    "    \"jonny_bravo_estuvo_aqui\": {\n",
    "        \"rol\": \"editor\",\n",
    "        \"nip_de_acceso\": 9730\n",
    "    },\n",
    "    \"alfonso_torres_69\": {\n",
    "        \"rol\": \"editor\",\n",
    "        \"nip_de_acceso\": 2849\n",
    "    },\n",
    "    \"jocosita_99\": {\n",
    "        \"rol\": \"lector\"\n",
    "    }\n",
    "}"
   ]
  },
  {
   "cell_type": "markdown",
   "metadata": {},
   "source": [
    "Nuestra plataforma tiene 3 roles:\n",
    "\n",
    "1. Admin: estos pueden editar información sin necesitar un nip de acceso.\n",
    "2. Editor: pueden editar información sólo si escriben correctamenta su nip de acceso.\n",
    "3. Lector: no pueden editar, sólo ver la información, no necesitan nip de acceso.\n",
    "\n",
    "En la celda debajo, crea una función llamada `nivel_de_acceso_para_username` que reciba 3 parámetros:\n",
    "\n",
    "1. `base_de_datos`: que será siempre nuestro diccionario `usuarios`.\n",
    "2. `username`: El `username` del usuario que está solicitando acceso.\n",
    "3. `nip_de_acceso`: El nip de acceso, que puede ser `None` en el caso de que el usuario no tenga uno (o que haya olvidado escribirlo a la hora de pedir acceso.\n",
    "\n",
    "Con estos 3 parámetros, nuestra función tiene que regresar uno de los códigos de acceso siguientes:\n",
    "\n",
    "- `0`: Acceso denegado (esto sucede si el rol es `editor` y el `nip_de_acceso` es incorrecto).\n",
    "- `1`: Modo edición autorizada (esto sucede si el rol es `admin` o si el rol es `editor` y el `nip_de_acesso` es correcto).\n",
    "- `2`: Modo lectura autorizada (esto sucede si el rol es `lector`).\n",
    "\n",
    "Después, corre los tests para asegurarte de que tu función es correcta.\n",
    "\n",
    "> Tip: Recuerda que puedes \"anidar\" `sentencias if` dentro de otras `sentencias if`.\n",
    "\n",
    "> Reto extra: Agrega un chequeo que regrese `0` si el `username` que recibió tu función no existe en la base de datos."
   ]
  },
  {
   "cell_type": "code",
   "execution_count": 106,
   "metadata": {},
   "outputs": [
    {
     "name": "stdout",
     "output_type": "stream",
     "text": [
      "None\n",
      "None\n"
     ]
    },
    {
     "data": {
      "text/plain": [
       "0"
      ]
     },
     "execution_count": 106,
     "metadata": {},
     "output_type": "execute_result"
    }
   ],
   "source": [
    "def nivel_de_acceso_para_username(base_de_datos,username,nip_de_acceso):\n",
    "    usuario = usuarios.get(username)\n",
    "    nip = None\n",
    "    if usuario != None:\n",
    "        nip = usuarios[username].get(\"nip_de_acceso\")\n",
    "        \n",
    "    print(usuario)\n",
    "    print(nip)\n",
    "    \n",
    "    if usuario == None:\n",
    "        return 0\n",
    "    elif usuario[\"rol\"] == \"editor\" and nip != nip_de_acceso:\n",
    "        return 0\n",
    "    elif (usuario[\"rol\"] == \"editor\" or usuario[\"rol\"] == \"admin\") and nip == nip_de_acceso:\n",
    "        return 1\n",
    "    elif (usuario[\"rol\"] == \"lector\"):\n",
    "        return 2\n",
    "\n",
    "nivel_de_acceso_para_username(None,\"los_yeah_yeahs_97\", 1345)"
   ]
  },
  {
   "cell_type": "code",
   "execution_count": 107,
   "metadata": {},
   "outputs": [
    {
     "name": "stdout",
     "output_type": "stream",
     "text": [
      "== Tests nivel_de_acceso_para_username==\n",
      "\n",
      "{'rol': 'admin'}\n",
      "None\n",
      "Test 0: Para el usuario manolito_garcia el resultado esperado es `1`, obtuvimos `1`\n",
      "{'rol': 'editor', 'nip_de_acceso': 3594}\n",
      "3594\n",
      "Test 1: Para el usuario sebas_macaco_23 el resultado esperado es `1`, obtuvimos `1`\n",
      "{'rol': 'editor', 'nip_de_acceso': 9730}\n",
      "9730\n",
      "Test 2: Para el usuario jonny_bravo_estuvo_aqui el resultado esperado es `0`, obtuvimos `0`\n",
      "{'rol': 'lector'}\n",
      "None\n",
      "Test 3: Para el usuario pepe_le_pu_88 el resultado esperado es `2`, obtuvimos `2`\n",
      "{'rol': 'editor', 'nip_de_acceso': 2849}\n",
      "2849\n",
      "Test 4: Para el usuario alfonso_torres_69 el resultado esperado es `0`, obtuvimos `0`\n",
      "None\n",
      "None\n",
      "Test 5: Para el usuario los_yeah_yeahs_97 el resultado esperado es `0`, obtuvimos `0`\n",
      "\n",
      "Errores encontrados: 0\n"
     ]
    }
   ],
   "source": [
    "print(\"== Tests nivel_de_acceso_para_username==\\n\")\n",
    "\n",
    "tests = [\n",
    "    ([usuarios, \"manolito_garcia\", None], 1),\n",
    "    ([usuarios, \"sebas_macaco_23\", 3594], 1),\n",
    "    ([usuarios, \"jonny_bravo_estuvo_aqui\", 9999], 0),\n",
    "    ([usuarios, \"pepe_le_pu_88\", None], 2),\n",
    "    ([usuarios, \"alfonso_torres_69\", None], 0),\n",
    "    ([usuarios, \"los_yeah_yeahs_97\", 1345], 0)\n",
    "]\n",
    "errores = 0\n",
    "for i, (params, result) in enumerate(tests):\n",
    "    opcional = \"\"\n",
    "    try:\n",
    "        resultado_test = nivel_de_acceso_para_username(*params)\n",
    "    except KeyError:\n",
    "        resultado_test = None\n",
    "        opcional = \"(opcional) \"\n",
    "        \n",
    "    print(f'Test {opcional}{i}: Para el usuario {params[1]} el resultado esperado es `{result}`, obtuvimos `{resultado_test}`')\n",
    "    errores += resultado_test != result\n",
    "\n",
    "print(f'\\nErrores encontrados: {errores}')"
   ]
  },
  {
   "cell_type": "code",
   "execution_count": null,
   "metadata": {},
   "outputs": [],
   "source": []
  }
 ],
 "metadata": {
  "kernelspec": {
   "display_name": "Python 3 (ipykernel)",
   "language": "python",
   "name": "python3"
  },
  "language_info": {
   "codemirror_mode": {
    "name": "ipython",
    "version": 3
   },
   "file_extension": ".py",
   "mimetype": "text/x-python",
   "name": "python",
   "nbconvert_exporter": "python",
   "pygments_lexer": "ipython3",
   "version": "3.9.6"
  }
 },
 "nbformat": 4,
 "nbformat_minor": 4
}
